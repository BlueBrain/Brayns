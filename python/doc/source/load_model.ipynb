{
 "cells": [
  {
   "cell_type": "markdown",
   "metadata": {},
   "source": [
    "# Load model"
   ]
  },
  {
   "cell_type": "code",
   "execution_count": 6,
   "metadata": {},
   "outputs": [],
   "source": [
    "from brayns import Client\n",
    "brayns = Client('localhost:8200')"
   ]
  },
  {
   "cell_type": "code",
   "execution_count": 7,
   "metadata": {},
   "outputs": [
    {
     "data": {
      "text/plain": [
       "{u'bounding_box': False,\n",
       " u'bounds': {u'max': [6.835937976837158, 4.257812023162842, 4.921875],\n",
       "  u'min': [-6.835937976837158, -4.257812023162842, -4.921875]},\n",
       " u'id': 2,\n",
       " u'metadata': {},\n",
       " u'name': u'monkey',\n",
       " u'path': u'/home/nachbaur/dev/viz.stable/Brayns/python/doc/source/../../../tests/files/monkey.xyz',\n",
       " u'transformation': {u'rotation': [0.0, 0.0, 0.0, 1.0],\n",
       "  u'scale': [1.0, 1.0, 1.0],\n",
       "  u'translation': [0.0, 0.0, 0.0]},\n",
       " u'visible': True}"
      ]
     },
     "execution_count": 7,
     "metadata": {},
     "output_type": "execute_result"
    }
   ],
   "source": [
    "import os \n",
    "brayns.add_model(os.getcwd() + '/../../../tests/files/monkey.xyz')"
   ]
  },
  {
   "cell_type": "code",
   "execution_count": 8,
   "metadata": {},
   "outputs": [
    {
     "data": {
      "text/plain": [
       "SW1hZ2UodmFsdWU9J1x4ZmZceGQ4XHhmZlx4ZTBceDAwXHgxMEpGSUZceDAwXHgwMVx4MDFceDAxXHgwMEhceDAwSFx4MDBceDAwXHhmZlx4ZGJceDAwQ1x4MDBceDAzXHgwMlx4MDJceDAzXHjigKY=\n"
      ]
     },
     "metadata": {},
     "output_type": "display_data"
    }
   ],
   "source": [
    "brayns.show()"
   ]
  }
 ],
 "metadata": {
  "kernelspec": {
   "display_name": "Python 2",
   "language": "python",
   "name": "python2"
  },
  "language_info": {
   "codemirror_mode": {
    "name": "ipython",
    "version": 2.0
   },
   "file_extension": ".py",
   "mimetype": "text/x-python",
   "name": "python",
   "nbconvert_exporter": "python",
   "pygments_lexer": "ipython2",
   "version": "2.7.12"
  }
 },
 "nbformat": 4,
 "nbformat_minor": 0
}