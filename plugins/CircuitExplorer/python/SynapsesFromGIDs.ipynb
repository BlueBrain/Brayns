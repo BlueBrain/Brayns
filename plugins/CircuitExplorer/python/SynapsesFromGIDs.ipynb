{
 "cells": [
  {
   "cell_type": "code",
   "execution_count": 1,
   "metadata": {},
   "outputs": [],
   "source": [
    "from brayns import Client"
   ]
  },
  {
   "cell_type": "code",
   "execution_count": 2,
   "metadata": {},
   "outputs": [],
   "source": [
    "brayns = Client('localhost:5000')"
   ]
  },
  {
   "cell_type": "code",
   "execution_count": 4,
   "metadata": {},
   "outputs": [
    {
     "name": "stdout",
     "output_type": "stream",
     "text": [
      "Sending neuron 75609\n",
      "Sending neuron 63032\n"
     ]
    }
   ],
   "source": [
    "import json\n",
    "\n",
    "def get_html_colors_by_gid(gid):\n",
    "    from collections import OrderedDict\n",
    "    colors = OrderedDict()\n",
    "    for key, value in data[gid].items():\n",
    "        colors['%06d' % int(key)] = value\n",
    "\n",
    "    tuples = sorted(colors.items())\n",
    "    html_colors = []\n",
    "    for t in tuples:\n",
    "        html_colors.append(t[1])\n",
    "    return html_colors\n",
    "\n",
    "with open('v5_colors.json') as f:\n",
    "    data = json.load(f)\n",
    "\n",
    "''' Send data to Brayns '''\n",
    "for key in data.keys(): \n",
    "    gid = key.replace('a','');\n",
    "    print('Sending neuron ' + gid)\n",
    "    html_colors = get_html_colors_by_gid(key);\n",
    "    params = dict()\n",
    "    params['circuitConfiguration'] = '/gpfs/bbp.cscs.ch/project/proj1/circuits/SomatosensoryCxS1-v5.r0/O1/merged_circuit/CircuitConfig'\n",
    "    params['gid'] = int(gid)\n",
    "    params['htmlColors'] = html_colors\n",
    "    brayns.request('synapses', params=params)\n"
   ]
  },
  {
   "cell_type": "code",
   "execution_count": null,
   "metadata": {},
   "outputs": [],
   "source": []
  }
 ],
 "metadata": {
  "kernelspec": {
   "display_name": "Python 3",
   "language": "python",
   "name": "python3"
  },
  "language_info": {
   "codemirror_mode": {
    "name": "ipython",
    "version": 3
   },
   "file_extension": ".py",
   "mimetype": "text/x-python",
   "name": "python",
   "nbconvert_exporter": "python",
   "pygments_lexer": "ipython3",
   "version": "3.5.2"
  }
 },
 "nbformat": 4,
 "nbformat_minor": 2
}
