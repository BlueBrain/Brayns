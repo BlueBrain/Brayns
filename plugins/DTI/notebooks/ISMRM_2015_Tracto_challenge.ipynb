{
 "cells": [
  {
   "cell_type": "markdown",
   "metadata": {},
   "source": [
    "# http://tractometer.org/ismrm_2015_challenge\n",
    "## http://tractometer.org/downloads/downloads/ISMRM_2015_Tracto_challenge_data_v1_1.zip"
   ]
  },
  {
   "cell_type": "markdown",
   "metadata": {},
   "source": [
    "## Generate streamlines"
   ]
  },
  {
   "cell_type": "code",
   "execution_count": null,
   "metadata": {},
   "outputs": [],
   "source": [
    "from os.path import expanduser, join"
   ]
  },
  {
   "cell_type": "code",
   "execution_count": null,
   "metadata": {},
   "outputs": [],
   "source": [
    "home = '/home/favreau/medias/dti/'\n",
    "dname = join(home, 'ISMRM_2015_Tracto_challenge_data')\n",
    "fraw = join(dname, 'Diffusion.nii.gz')\n",
    "fbval = join(dname, 'Diffusion.bvals')\n",
    "fbvec = join(dname, 'Diffusion.bvecs')"
   ]
  },
  {
   "cell_type": "code",
   "execution_count": null,
   "metadata": {},
   "outputs": [],
   "source": [
    "from dipy.io.gradients import read_bvals_bvecs\n",
    "from dipy.core.gradients import gradient_table\n",
    "import nibabel as nib\n",
    "\n",
    "bvals, bvecs = read_bvals_bvecs(fbval, fbvec)\n",
    "gtab = gradient_table(bvals, bvecs)\n",
    "img = nib.load(fraw)\n",
    "data = img.get_data()\n",
    "affine = img.affine\n",
    "\n",
    "''' '''\n",
    "from dipy.reconst.shm import CsaOdfModel\n",
    "from dipy.data import default_sphere\n",
    "from dipy.direction import peaks_from_model\n",
    "\n",
    "csa_model = CsaOdfModel(gtab, sh_order=6)\n",
    "csa_peaks = peaks_from_model(csa_model, data, default_sphere,\n",
    "                             relative_peak_threshold=.8,\n",
    "                             min_separation_angle=45)\n",
    "\n",
    "''' '''\n",
    "from dipy.tracking.local import ThresholdTissueClassifier\n",
    "classifier = ThresholdTissueClassifier(csa_peaks.gfa, .25)"
   ]
  },
  {
   "cell_type": "code",
   "execution_count": null,
   "metadata": {},
   "outputs": [],
   "source": [
    "''' '''\n",
    "from dipy.tracking import utils\n",
    "\n",
    "seed_mask = True #labels == 2\n",
    "seeds = utils.seeds_from_mask(seed_mask, density=[2, 2, 2], affine=affine)\n",
    "\n",
    "''' '''\n",
    "from dipy.tracking.local import LocalTracking\n",
    "from dipy.tracking.streamline import Streamlines\n",
    "\n",
    "streamlines_generator = LocalTracking(csa_peaks, classifier, seeds, affine, step_size=.5)\n",
    "\n",
    "# Generate streamlines object\n",
    "streamlines = Streamlines(streamlines_generator)"
   ]
  },
  {
   "cell_type": "code",
   "execution_count": null,
   "metadata": {},
   "outputs": [],
   "source": [
    "len(streamlines)"
   ]
  },
  {
   "cell_type": "markdown",
   "metadata": {},
   "source": [
    "# Visualize in Brayns"
   ]
  },
  {
   "cell_type": "code",
   "execution_count": null,
   "metadata": {},
   "outputs": [],
   "source": [
    "import viztools\n",
    "brayns = viztools.Brayns('localhost:5000')"
   ]
  },
  {
   "cell_type": "code",
   "execution_count": null,
   "metadata": {},
   "outputs": [],
   "source": [
    "def add_streamlines(name, streams, radius, opacity, limit, range = (0, 1e6)):\n",
    "    ''' Build streamlines'''\n",
    "    count = 0\n",
    "    indices = []\n",
    "    points = []\n",
    "    for stream in streams[range[0]:range[1]]:\n",
    "        indices.append(count)\n",
    "        l = min(len(stream), limit)\n",
    "        for x in stream[:limit]:\n",
    "            for z in x:\n",
    "                    points.append(float(z))\n",
    "        count = count + l\n",
    "        \n",
    "    ''' RPC call to Brayns '''\n",
    "    params = dict()\n",
    "    params['name'] = name\n",
    "    params['indices'] = indices\n",
    "    params['points'] = points\n",
    "    params['radius'] = radius\n",
    "    params['opacity'] = opacity\n",
    "    result = brayns.rpc_request(\"streamline\", params=params)"
   ]
  },
  {
   "cell_type": "code",
   "execution_count": null,
   "metadata": {},
   "outputs": [],
   "source": [
    "streams_per_model = 1000\n",
    "for i in range(1, len(streamlines), streams_per_model):\n",
    "    add_streamlines(str(i) + '-' + str(i + streams_per_model - 1), streamlines, 0.1, 1, 10000, (i, i + streams_per_model - 1))"
   ]
  },
  {
   "cell_type": "markdown",
   "metadata": {},
   "source": [
    "## Tracks"
   ]
  },
  {
   "cell_type": "code",
   "execution_count": null,
   "metadata": {},
   "outputs": [],
   "source": [
    "folder = home + 'ISMRM_2015_Tracto_challenge_ground_truth_bundles_TRK_v2/'\n",
    "# folder = '/home/favreau/Dropbox/Python/notebooks/DTI/'\n",
    "import os, fnmatch\n",
    "from ipywidgets import widgets\n",
    "files = fnmatch.filter(os.listdir(folder), '*.trk')\n",
    "files.sort()\n",
    "print(files)"
   ]
  },
  {
   "cell_type": "code",
   "execution_count": null,
   "metadata": {},
   "outputs": [],
   "source": [
    "# Load all tracks\n",
    "from dipy.io.streamline import load_trk\n",
    "for file in files:\n",
    "    streams, hdr = load_trk(folder + file)\n",
    "    add_streamlines(file, streams, 0.1, 1, 100000, (0, len(streams)))"
   ]
  },
  {
   "cell_type": "code",
   "execution_count": null,
   "metadata": {},
   "outputs": [],
   "source": [
    "file = files[0]\n",
    "streams, hdr = load_trk(folder + file)\n",
    "add_streamlines(file, streams, 0.01, 1, 100000, (0, len(streams)))"
   ]
  },
  {
   "cell_type": "markdown",
   "metadata": {},
   "source": [
    "## Movie"
   ]
  },
  {
   "cell_type": "markdown",
   "metadata": {},
   "source": [
    "### CC"
   ]
  },
  {
   "cell_type": "code",
   "execution_count": null,
   "metadata": {},
   "outputs": [],
   "source": [
    "import math\n",
    "r = 150\n",
    "for i in range(360):\n",
    "    angle = i * math.pi / 180.0\n",
    "    t = [34.35649871826172, 35.56396484375, 81.80602264404297]\n",
    "    o = [t[0] + r * math.cos(angle), t[1] + r * math.sin(angle), t[2]]\n",
    "    brayns.set_camera(origin=o, look_at=t, up=[0,0,1])\n",
    "    filename = '/home/favreau/medias/movies/dti/%06d.png' % i\n",
    "#     brayns.image(size=(1920,1080), samples_per_pixel=8, quality=100, format='png').save(filename)"
   ]
  },
  {
   "cell_type": "code",
   "execution_count": null,
   "metadata": {},
   "outputs": [],
   "source": [
    "brayns.camera.look_at"
   ]
  },
  {
   "cell_type": "code",
   "execution_count": null,
   "metadata": {},
   "outputs": [],
   "source": [
    "file = files[0]\n",
    "print(file)\n",
    "streams, hdr = load_trk(folder + file)\n",
    "for i in range(2, 1000, 1):\n",
    "    add_streamlines(file, streams, 0.1, 1, i, (0, len(streams)))\n",
    "    filename = '/home/favreau/medias/movies/dti/growing/%06d.png' % i\n",
    "    brayns.image(size=(1920,1080), samples_per_pixel=8, quality=100, format='png').save(filename)"
   ]
  },
  {
   "cell_type": "code",
   "execution_count": null,
   "metadata": {},
   "outputs": [],
   "source": [
    "brayns.set_camera(stereo_mode=brayns.STEREO_MODE_NONE)"
   ]
  },
  {
   "cell_type": "code",
   "execution_count": null,
   "metadata": {},
   "outputs": [],
   "source": []
  }
 ],
 "metadata": {
  "kernelspec": {
   "display_name": "Python 3",
   "language": "python",
   "name": "python3"
  },
  "language_info": {
   "codemirror_mode": {
    "name": "ipython",
    "version": 3
   },
   "file_extension": ".py",
   "mimetype": "text/x-python",
   "name": "python",
   "nbconvert_exporter": "python",
   "pygments_lexer": "ipython3",
   "version": "3.5.2"
  }
 },
 "nbformat": 4,
 "nbformat_minor": 2
}
