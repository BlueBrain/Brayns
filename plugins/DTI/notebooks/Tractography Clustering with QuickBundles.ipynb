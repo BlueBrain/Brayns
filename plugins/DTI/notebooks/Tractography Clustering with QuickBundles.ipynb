{
 "cells": [
  {
   "cell_type": "code",
   "execution_count": null,
   "metadata": {},
   "outputs": [],
   "source": [
    "from nibabel import trackvis as tv\n",
    "from dipy.tracking.streamline import Streamlines\n",
    "from dipy.data import get_data\n",
    "from dipy.io.streamline import load_trk"
   ]
  },
  {
   "cell_type": "markdown",
   "metadata": {},
   "source": [
    "# Tractography Clustering"
   ]
  },
  {
   "cell_type": "code",
   "execution_count": null,
   "metadata": {},
   "outputs": [],
   "source": [
    "import viztools\n",
    "brayns = viztools.Brayns('localhost:5000')"
   ]
  },
  {
   "cell_type": "code",
   "execution_count": null,
   "metadata": {},
   "outputs": [],
   "source": [
    "def add_streamlines(streams, radius):\n",
    "    ''' Build streamlines'''\n",
    "    count = 0\n",
    "    indices = []\n",
    "    points = []\n",
    "    for stream in streams:\n",
    "        for x in stream:\n",
    "            if x is not None:\n",
    "                indices.append(count)\n",
    "                for y in x:\n",
    "                    for z in y:\n",
    "                        points.append(float(z))\n",
    "                count = count + len(x)\n",
    "        \n",
    "    ''' RPC call to Brayns '''\n",
    "    params = dict()\n",
    "    params['name'] = 'fornix'\n",
    "    params['indices'] = indices\n",
    "    params['points'] = points\n",
    "    params['radius'] = radius\n",
    "    params['opacity'] = 1\n",
    "    result = brayns.rpc_request(\"streamline\", params=params)"
   ]
  },
  {
   "cell_type": "code",
   "execution_count": null,
   "metadata": {},
   "outputs": [],
   "source": [
    "fname = get_data('fornix')\n",
    "streams, hdr = tv.read(fname)\n",
    "\n",
    "add_streamlines(streams, 0.1)"
   ]
  },
  {
   "cell_type": "markdown",
   "metadata": {},
   "source": [
    "## http://tractome.org"
   ]
  },
  {
   "cell_type": "code",
   "execution_count": null,
   "metadata": {},
   "outputs": [],
   "source": [
    "def add_streamlines2(name, streams, radius, opacity, range = (0, 1e6)):\n",
    "    ''' Build streamlines'''\n",
    "    count = 0\n",
    "    indices = []\n",
    "    points = []\n",
    "    for stream in streams[range[0]:range[1]]:\n",
    "        indices.append(count)\n",
    "        for x in stream:\n",
    "            for z in x:\n",
    "                    points.append(float(z))\n",
    "        count = count + len(stream)\n",
    "        \n",
    "    ''' RPC call to Brayns '''\n",
    "    params = dict()\n",
    "    params['name'] = name\n",
    "    params['indices'] = indices\n",
    "    params['points'] = points\n",
    "    params['radius'] = radius\n",
    "    params['opacity'] = opacity\n",
    "    result = brayns.rpc_request(\"streamline\", params=params)"
   ]
  },
  {
   "cell_type": "code",
   "execution_count": null,
   "metadata": {},
   "outputs": [],
   "source": [
    "streams, hdr = load_trk('/home/favreau/medias/dti/HCP_subject124422_100Kseeds/tracks_dti_100K.trk')\n",
    "print(len(streams))\n",
    "streams_per_model = 1000\n",
    "for i in range(1, len(streams), streams_per_model):\n",
    "    add_streamlines2(str(i) + '-' + str(i + streams_per_model - 1), streams, 0.1, 1, (i, i + streams_per_model - 1))"
   ]
  },
  {
   "cell_type": "code",
   "execution_count": null,
   "metadata": {},
   "outputs": [],
   "source": [
    "streams, hdr = load_trk('/home/favreau/medias/dti/HCP_subject124422_3Mseeds/tracks_dti_3M.trk')\n",
    "print(len(streams))\n",
    "streams_per_model = 1000\n",
    "for i in range(1, len(streams), streams_per_model):\n",
    "    add_streamlines2(str(i) + '-' + str(i + streams_per_model - 1), streams, 0.1, 1, (i, i + streams_per_model - 1))"
   ]
  },
  {
   "cell_type": "code",
   "execution_count": null,
   "metadata": {},
   "outputs": [],
   "source": []
  }
 ],
 "metadata": {
  "kernelspec": {
   "display_name": "Python 3",
   "language": "python",
   "name": "python3"
  },
  "language_info": {
   "codemirror_mode": {
    "name": "ipython",
    "version": 3
   },
   "file_extension": ".py",
   "mimetype": "text/x-python",
   "name": "python",
   "nbconvert_exporter": "python",
   "pygments_lexer": "ipython3",
   "version": "3.5.2"
  }
 },
 "nbformat": 4,
 "nbformat_minor": 2
}
