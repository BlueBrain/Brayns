{
 "cells": [
  {
   "cell_type": "code",
   "execution_count": null,
   "metadata": {},
   "outputs": [],
   "source": [
    "!pip install dipy"
   ]
  },
  {
   "cell_type": "code",
   "execution_count": null,
   "metadata": {},
   "outputs": [],
   "source": [
    "from dipy.data import read_stanford_labels\n",
    "\n",
    "hardi_img, gtab, labels_img = read_stanford_labels()\n",
    "data = hardi_img.get_data()\n",
    "labels = labels_img.get_data()\n",
    "affine = hardi_img.affine"
   ]
  },
  {
   "cell_type": "code",
   "execution_count": null,
   "metadata": {},
   "outputs": [],
   "source": [
    "white_matter = (labels == 1) | (labels == 2)"
   ]
  },
  {
   "cell_type": "code",
   "execution_count": null,
   "metadata": {},
   "outputs": [],
   "source": [
    "from dipy.reconst.shm import CsaOdfModel\n",
    "from dipy.data import default_sphere\n",
    "from dipy.direction import peaks_from_model\n",
    "\n",
    "csa_model = CsaOdfModel(gtab, sh_order=6)\n",
    "csa_peaks = peaks_from_model(csa_model, data, default_sphere,\n",
    "                             relative_peak_threshold=.8,\n",
    "                             min_separation_angle=45,\n",
    "                             mask=white_matter)"
   ]
  },
  {
   "cell_type": "code",
   "execution_count": null,
   "metadata": {},
   "outputs": [],
   "source": [
    "from dipy.tracking.local import ThresholdTissueClassifier\n",
    "\n",
    "classifier = ThresholdTissueClassifier(csa_peaks.gfa, .25)"
   ]
  },
  {
   "cell_type": "code",
   "execution_count": null,
   "metadata": {},
   "outputs": [],
   "source": [
    "from dipy.tracking import utils\n",
    "\n",
    "seed_mask = labels == 2\n",
    "seeds = utils.seeds_from_mask(seed_mask, density=[2, 2, 2], affine=affine)"
   ]
  },
  {
   "cell_type": "code",
   "execution_count": null,
   "metadata": {},
   "outputs": [],
   "source": [
    "from dipy.tracking.local import LocalTracking\n",
    "from dipy.viz import window, actor\n",
    "from dipy.viz.colormap import line_colors\n",
    "from dipy.tracking.streamline import Streamlines\n",
    "\n",
    "# Initialization of LocalTracking. The computation happens in the next step.\n",
    "streamlines_generator = LocalTracking(csa_peaks, classifier, seeds, affine, step_size=.5)\n",
    "\n",
    "# Generate streamlines object\n",
    "streamlines = Streamlines(streamlines_generator)\n",
    "\n",
    "# Prepare the display objects.\n",
    "color = line_colors(streamlines)"
   ]
  },
  {
   "cell_type": "markdown",
   "metadata": {},
   "source": [
    "# Brayns"
   ]
  },
  {
   "cell_type": "code",
   "execution_count": null,
   "metadata": {},
   "outputs": [],
   "source": [
    "import viztools\n",
    "brayns = viztools.Brayns('bbpav03.bbp.epfl.ch:5000')"
   ]
  },
  {
   "cell_type": "code",
   "execution_count": null,
   "metadata": {},
   "outputs": [],
   "source": [
    "def add_streamlines(radius):\n",
    "    import math\n",
    "    count = 0\n",
    "    indices = []\n",
    "    points = []\n",
    "    i = 0\n",
    "    for s in streamlines:\n",
    "        indices.append(count)\n",
    "        for p in s:\n",
    "            points.append(p[0])\n",
    "            points.append(p[1])\n",
    "            points.append(p[2])\n",
    "            \n",
    "        count = count + len(s)\n",
    "        i = i + 1\n",
    "        \n",
    "    params = dict()\n",
    "    params['name'] = 'Deterministic'\n",
    "    params['indices'] = indices\n",
    "    params['points'] = points\n",
    "    params['radius'] = radius\n",
    "    params['opacity'] = 1\n",
    "    result = brayns.rpc_request(\"streamline\", params=params)"
   ]
  },
  {
   "cell_type": "code",
   "execution_count": null,
   "metadata": {},
   "outputs": [],
   "source": [
    "add_streamlines(0.1)"
   ]
  },
  {
   "cell_type": "code",
   "execution_count": null,
   "metadata": {},
   "outputs": [],
   "source": [
    "import math\n",
    "streamline_id = 300\n",
    "r = 10\n",
    "nb_frames = len(streamlines[streamline_id])\n",
    "print(nb_frames)\n",
    "for i in range(nb_frames - 1):\n",
    "    o = streamlines[streamline_id][i].tolist()\n",
    "    t = streamlines[streamline_id][i+1].tolist()\n",
    "    o[0] = o[0] + r * i / 10 * math.cos(i * math.pi / 180)\n",
    "    o[2] = o[2] + r * i / 10 * math.sin(i * math.pi / 180)\n",
    "    \n",
    "#     v = [t[0] - o[0], t[1] - o[1], t[2] - o[2]]\n",
    "#     o = [t[0] - r * v[0], t[1] - r * v[1], t[2] - r * v[2]]\n",
    "    brayns.set_camera(origin=o, look_at=t, up=[0,0,1])"
   ]
  },
  {
   "cell_type": "markdown",
   "metadata": {},
   "source": [
    "## Movie"
   ]
  },
  {
   "cell_type": "code",
   "execution_count": null,
   "metadata": {},
   "outputs": [],
   "source": [
    "import math\n",
    "r = 150\n",
    "for i in range(360):\n",
    "    angle = i * math.pi / 180.0\n",
    "    t = [2.3650970458984375, -13.360580444335938, 24.217458724975586]\n",
    "    o = [t[0] + r * math.cos(angle), t[1] + r * math.sin(angle), t[2]]\n",
    "    brayns.set_camera(origin=o, look_at=t, up=[0,0,1])\n",
    "    filename = '/home/favreau/medias/movies/dti/%06d.png' % i\n",
    "    brayns.image(size=(1920,1080), samples_per_pixel=8, quality=100, format='png').save(filename)"
   ]
  },
  {
   "cell_type": "code",
   "execution_count": null,
   "metadata": {},
   "outputs": [],
   "source": []
  }
 ],
 "metadata": {
  "kernelspec": {
   "display_name": "Python 3",
   "language": "python",
   "name": "python3"
  },
  "language_info": {
   "codemirror_mode": {
    "name": "ipython",
    "version": 3
   },
   "file_extension": ".py",
   "mimetype": "text/x-python",
   "name": "python",
   "nbconvert_exporter": "python",
   "pygments_lexer": "ipython3",
   "version": "3.5.2"
  }
 },
 "nbformat": 4,
 "nbformat_minor": 2
}
