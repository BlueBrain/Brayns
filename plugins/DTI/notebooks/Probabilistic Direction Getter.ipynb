{
 "cells": [
  {
   "cell_type": "code",
   "execution_count": null,
   "metadata": {},
   "outputs": [],
   "source": [
    "from dipy.data import read_stanford_labels\n",
    "from dipy.reconst.csdeconv import ConstrainedSphericalDeconvModel\n",
    "from dipy.tracking import utils\n",
    "from dipy.tracking.local import (ThresholdTissueClassifier, LocalTracking)\n",
    "from dipy.tracking.streamline import Streamlines\n",
    "\n",
    "hardi_img, gtab, labels_img = read_stanford_labels()\n",
    "data = hardi_img.get_data()\n",
    "labels = labels_img.get_data()\n",
    "affine = hardi_img.affine\n",
    "\n",
    "seed_mask = labels == 2\n",
    "white_matter = (labels == 1) | (labels == 2)\n",
    "seeds = utils.seeds_from_mask(seed_mask, density=1, affine=affine)\n",
    "\n",
    "csd_model = ConstrainedSphericalDeconvModel(gtab, None, sh_order=6)\n",
    "csd_fit = csd_model.fit(data, mask=white_matter)"
   ]
  },
  {
   "cell_type": "code",
   "execution_count": null,
   "metadata": {},
   "outputs": [],
   "source": [
    "from dipy.reconst.shm import CsaOdfModel\n",
    "\n",
    "csa_model = CsaOdfModel(gtab, sh_order=6)\n",
    "gfa = csa_model.fit(data, mask=white_matter).gfa\n",
    "classifier = ThresholdTissueClassifier(gfa, .25)"
   ]
  },
  {
   "cell_type": "code",
   "execution_count": null,
   "metadata": {},
   "outputs": [],
   "source": [
    "from dipy.direction import ProbabilisticDirectionGetter\n",
    "from dipy.data import small_sphere\n",
    "from dipy.io.trackvis import save_trk\n",
    "\n",
    "fod = csd_fit.odf(small_sphere)\n",
    "pmf = fod.clip(min=0)\n",
    "prob_dg = ProbabilisticDirectionGetter.from_pmf(pmf, max_angle=30.,\n",
    "                                                sphere=small_sphere)\n",
    "streamlines_generator = LocalTracking(prob_dg, classifier, seeds, affine, step_size=.5)\n",
    "save_trk(\"probabilistic_small_sphere.trk\", streamlines_generator, affine, labels.shape)"
   ]
  },
  {
   "cell_type": "code",
   "execution_count": null,
   "metadata": {},
   "outputs": [],
   "source": [
    "from dipy.data import default_sphere\n",
    "\n",
    "prob_dg = ProbabilisticDirectionGetter.from_shcoeff(csd_fit.shm_coeff,\n",
    "                                                    max_angle=30.,\n",
    "                                                    sphere=default_sphere)\n",
    "streamlines_generator = LocalTracking(prob_dg, classifier, seeds, affine, step_size=.5)\n",
    "\n",
    "save_trk(\"probabilistic_shm_coeff.trk\", streamlines_generator, affine, labels.shape)"
   ]
  },
  {
   "cell_type": "code",
   "execution_count": null,
   "metadata": {},
   "outputs": [],
   "source": [
    "from dipy.direction import peaks_from_model\n",
    "\n",
    "peaks = peaks_from_model(csd_model, data, default_sphere, .5, 25,\n",
    "                         mask=white_matter, return_sh=True, parallel=True)\n",
    "fod_coeff = peaks.shm_coeff\n",
    "prob_dg = ProbabilisticDirectionGetter.from_shcoeff(fod_coeff, max_angle=30.,\n",
    "                                                    sphere=default_sphere)\n",
    "streamlines_generator = LocalTracking(prob_dg, classifier, seeds, affine, step_size=.5)\n",
    "save_trk(\"probabilistic_peaks_from_model.trk\", streamlines_generator, affine,\n",
    "         labels.shape)"
   ]
  },
  {
   "cell_type": "code",
   "execution_count": null,
   "metadata": {},
   "outputs": [],
   "source": []
  },
  {
   "cell_type": "code",
   "execution_count": null,
   "metadata": {},
   "outputs": [],
   "source": []
  }
 ],
 "metadata": {
  "kernelspec": {
   "display_name": "Python 3",
   "language": "python",
   "name": "python3"
  },
  "language_info": {
   "codemirror_mode": {
    "name": "ipython",
    "version": 3
   },
   "file_extension": ".py",
   "mimetype": "text/x-python",
   "name": "python",
   "nbconvert_exporter": "python",
   "pygments_lexer": "ipython3",
   "version": "3.5.2"
  }
 },
 "nbformat": 4,
 "nbformat_minor": 2
}
